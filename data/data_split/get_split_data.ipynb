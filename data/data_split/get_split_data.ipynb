{
 "cells": [
  {
   "cell_type": "code",
   "execution_count": 1,
   "metadata": {},
   "outputs": [],
   "source": [
    "import pandas as pd\n",
    "\n",
    "raw_data = pd.read_json(\"../items.json\")"
   ]
  },
  {
   "cell_type": "code",
   "execution_count": 2,
   "metadata": {},
   "outputs": [],
   "source": [
    "import os\n",
    "split_margin = 1000\n",
    "path_id = \"data_files_split_by_id/\"\n",
    "if not os.path.exists(path_id):\n",
    "  os.mkdir(path_id)\n",
    "i = 0\n",
    "while i < len(raw_data):\n",
    "  ele = raw_data.iloc[i:i+split_margin]\n",
    "  ele.to_json(path_id+\"data_\"+str(i)+\".json\", orient=\"records\")\n",
    "  i += split_margin"
   ]
  },
  {
   "cell_type": "code",
   "execution_count": 6,
   "metadata": {},
   "outputs": [
    {
     "name": "stdout",
     "output_type": "stream",
     "text": [
      "1000\n"
     ]
    }
   ],
   "source": [
    "print(len(raw_data.iloc[0:1000]))"
   ]
  }
 ],
 "metadata": {
  "interpreter": {
   "hash": "7bb93025c59856bded36afd37d2470052c421d333c99f2f3a784820eb03d1847"
  },
  "kernelspec": {
   "display_name": "Python 3.7.0 ('base')",
   "language": "python",
   "name": "python3"
  },
  "language_info": {
   "codemirror_mode": {
    "name": "ipython",
    "version": 3
   },
   "file_extension": ".py",
   "mimetype": "text/x-python",
   "name": "python",
   "nbconvert_exporter": "python",
   "pygments_lexer": "ipython3",
   "version": "3.8.0"
  },
  "orig_nbformat": 4
 },
 "nbformat": 4,
 "nbformat_minor": 2
}
