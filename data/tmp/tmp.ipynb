{
 "cells": [
  {
   "cell_type": "code",
   "execution_count": 2,
   "metadata": {},
   "outputs": [],
   "source": [
    "import pandas as pd\n",
    "\n",
    "raw_data = pd.read_json(\"../items.json\")"
   ]
  },
  {
   "cell_type": "code",
   "execution_count": 13,
   "metadata": {},
   "outputs": [
    {
     "name": "stdout",
     "output_type": "stream",
     "text": [
      "answer_count                                                     879\n",
      "articles_count                                                    17\n",
      "avatar_url                   https://pic1.zhimg.com/36625a7b4_is.jpg\n",
      "business           {'id': '20010720', 'type': 'topic', 'url': 'ht...\n",
      "description        合作请邮件联系。设计预约请私信或邮件 sunlau@me.com，告知城市+期待入住时间+整...\n",
      "educations         [{'school': {'id': '', 'type': 'topic', 'url':...\n",
      "employments        [{'job': {'id': '19552637', 'type': 'topic', '...\n",
      "favorited_count                                               191226\n",
      "follower_count                                                443647\n",
      "following_count                                                  414\n",
      "gender                                                             1\n",
      "headline                                                室内设计师 ，自由码字人\n",
      "locations          [{'id': '19595689', 'type': 'topic', 'url': 'h...\n",
      "name                                                          SunLau\n",
      "thanked_count                                                  33485\n",
      "url_token                                                     sunlau\n",
      "user_type                                                     people\n",
      "voteup_count                                                   90058\n",
      "Name: 2, dtype: object\n"
     ]
    }
   ],
   "source": [
    "print(raw_data.iloc[2])"
   ]
  },
  {
   "cell_type": "code",
   "execution_count": 11,
   "metadata": {},
   "outputs": [],
   "source": [
    "list_name_avatar_url = []\n",
    "my_str = \"\"\n",
    "with open(\"tmp.txt\", 'w', encoding='utf-8') as f:\n",
    "  i = 0\n",
    "  for name, avatar_url, url_token  in  zip(raw_data[\"name\"], raw_data[\"avatar_url\"], raw_data[\"url_token\"]):\n",
    "    # my_str += '    <li><a>'+name+'</a></li>\\n'\n",
    "    my_str += '    <li><a href=\"https://www.zhihu.com/people/' +url_token+ '\" target=\"_blank\"><img style=\"width:25px;height:25px;\" src=\"'+avatar_url+'\">'+name+'</a></li>\\n'\n",
    "    \n",
    "    i += 1\n",
    "    if i > 45: break\n",
    "  f.write(my_str)\n"
   ]
  }
 ],
 "metadata": {
  "interpreter": {
   "hash": "7bb93025c59856bded36afd37d2470052c421d333c99f2f3a784820eb03d1847"
  },
  "kernelspec": {
   "display_name": "Python 3.7.0 ('base')",
   "language": "python",
   "name": "python3"
  },
  "language_info": {
   "codemirror_mode": {
    "name": "ipython",
    "version": 3
   },
   "file_extension": ".py",
   "mimetype": "text/x-python",
   "name": "python",
   "nbconvert_exporter": "python",
   "pygments_lexer": "ipython3",
   "version": "3.7.0"
  },
  "orig_nbformat": 4
 },
 "nbformat": 4,
 "nbformat_minor": 2
}
