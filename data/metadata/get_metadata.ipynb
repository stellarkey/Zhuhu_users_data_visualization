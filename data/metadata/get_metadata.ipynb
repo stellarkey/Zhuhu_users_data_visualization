{
 "cells": [
  {
   "cell_type": "code",
   "execution_count": 1,
   "metadata": {},
   "outputs": [
    {
     "name": "stdout",
     "output_type": "stream",
     "text": [
      "answer_count                                                     879\n",
      "articles_count                                                    17\n",
      "avatar_url                   https://pic1.zhimg.com/36625a7b4_is.jpg\n",
      "business           {'id': '20010720', 'type': 'topic', 'url': 'ht...\n",
      "description        合作请邮件联系。设计预约请私信或邮件 sunlau@me.com，告知城市+期待入住时间+整...\n",
      "educations         [{'school': {'id': '', 'type': 'topic', 'url':...\n",
      "employments        [{'job': {'id': '19552637', 'type': 'topic', '...\n",
      "favorited_count                                               191226\n",
      "follower_count                                                443647\n",
      "following_count                                                  414\n",
      "gender                                                             1\n",
      "headline                                                室内设计师 ，自由码字人\n",
      "locations          [{'id': '19595689', 'type': 'topic', 'url': 'h...\n",
      "name                                                          SunLau\n",
      "thanked_count                                                  33485\n",
      "url_token                                                     sunlau\n",
      "user_type                                                     people\n",
      "voteup_count                                                   90058\n",
      "Name: 2, dtype: object\n"
     ]
    }
   ],
   "source": [
    "import pandas as pd\n",
    "\n",
    "raw_data = pd.read_json(\"../items.json\")\n",
    "print(raw_data.iloc[2])"
   ]
  },
  {
   "cell_type": "code",
   "execution_count": 4,
   "metadata": {},
   "outputs": [
    {
     "name": "stdout",
     "output_type": "stream",
     "text": [
      "{'id': '20010720', 'type': 'topic', 'url': 'https://www.zhihu.com/topics/20010720', 'name': '创意艺术', 'avatar_url': 'https://pic4.zhimg.com/e82bab09c_is.jpg', 'excerpt': '', 'introduction': ''}\n"
     ]
    }
   ],
   "source": [
    "def get_metadata(attribute, key):\n",
    "  ret_dict = {}\n",
    "  for ele in raw_data[attribute]:\n",
    "      if ele[key] not in ret_dict:\n",
    "        ret_dict[ele[key]] = 1\n",
    "      else:\n",
    "        ret_dict[ele[key]] += 1\n",
    "  return ret_dict\n",
    "print(get_metadata(\"\"))"
   ]
  }
 ],
 "metadata": {
  "interpreter": {
   "hash": "7bb93025c59856bded36afd37d2470052c421d333c99f2f3a784820eb03d1847"
  },
  "kernelspec": {
   "display_name": "Python 3.7.0 ('base')",
   "language": "python",
   "name": "python3"
  },
  "language_info": {
   "codemirror_mode": {
    "name": "ipython",
    "version": 3
   },
   "file_extension": ".py",
   "mimetype": "text/x-python",
   "name": "python",
   "nbconvert_exporter": "python",
   "pygments_lexer": "ipython3",
   "version": "3.7.0"
  },
  "orig_nbformat": 4
 },
 "nbformat": 4,
 "nbformat_minor": 2
}
