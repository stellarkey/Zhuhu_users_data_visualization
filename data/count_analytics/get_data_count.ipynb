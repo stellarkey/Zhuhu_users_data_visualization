{
 "cells": [
  {
   "cell_type": "code",
   "execution_count": 2,
   "metadata": {},
   "outputs": [
    {
     "name": "stdout",
     "output_type": "stream",
     "text": [
      "answer_count                                                     879\n",
      "articles_count                                                    17\n",
      "avatar_url                   https://pic1.zhimg.com/36625a7b4_is.jpg\n",
      "business           {'id': '20010720', 'type': 'topic', 'url': 'ht...\n",
      "description        合作请邮件联系。设计预约请私信或邮件 sunlau@me.com，告知城市+期待入住时间+整...\n",
      "educations         [{'school': {'id': '', 'type': 'topic', 'url':...\n",
      "employments        [{'job': {'id': '19552637', 'type': 'topic', '...\n",
      "favorited_count                                               191226\n",
      "follower_count                                                443647\n",
      "following_count                                                  414\n",
      "gender                                                             1\n",
      "headline                                                室内设计师 ，自由码字人\n",
      "locations          [{'id': '19595689', 'type': 'topic', 'url': 'h...\n",
      "name                                                          SunLau\n",
      "thanked_count                                                  33485\n",
      "url_token                                                     sunlau\n",
      "user_type                                                     people\n",
      "voteup_count                                                   90058\n",
      "Name: 2, dtype: object\n"
     ]
    }
   ],
   "source": [
    "import pandas as pd\n",
    "\n",
    "raw_data = pd.read_json(\"../items.json\")\n",
    "print(raw_data.iloc[2])"
   ]
  },
  {
   "cell_type": "markdown",
   "metadata": {},
   "source": [
    "# 统计居住地分布"
   ]
  },
  {
   "cell_type": "code",
   "execution_count": 3,
   "metadata": {},
   "outputs": [],
   "source": [
    "def sava_dict_count(attribute, dictionary):\n",
    "  import json\n",
    "  with open(attribute+\"_count.json\", 'w', encoding='utf-8') as f:\n",
    "      json.dump(dictionary, f, ensure_ascii=False, indent=4)"
   ]
  },
  {
   "cell_type": "code",
   "execution_count": 1,
   "metadata": {},
   "outputs": [
    {
     "ename": "NameError",
     "evalue": "name 'raw_data' is not defined",
     "output_type": "error",
     "traceback": [
      "\u001b[1;31m---------------------------------------------------------------------------\u001b[0m",
      "\u001b[1;31mNameError\u001b[0m                                 Traceback (most recent call last)",
      "\u001b[1;32mC:\\Users\\STELLA~1\\AppData\\Local\\Temp/ipykernel_21028/214832584.py\u001b[0m in \u001b[0;36m<module>\u001b[1;34m\u001b[0m\n\u001b[1;32m----> 1\u001b[1;33m \u001b[1;32mfor\u001b[0m \u001b[0mcity\u001b[0m \u001b[1;32min\u001b[0m \u001b[0mraw_data\u001b[0m\u001b[1;33m.\u001b[0m\u001b[0mlocations\u001b[0m\u001b[1;33m.\u001b[0m\u001b[0miloc\u001b[0m\u001b[1;33m[\u001b[0m\u001b[1;36m2\u001b[0m\u001b[1;33m]\u001b[0m\u001b[1;33m:\u001b[0m\u001b[1;33m\u001b[0m\u001b[1;33m\u001b[0m\u001b[0m\n\u001b[0m\u001b[0;32m      2\u001b[0m   \u001b[0mprint\u001b[0m\u001b[1;33m(\u001b[0m\u001b[0mcity\u001b[0m\u001b[1;33m[\u001b[0m\u001b[1;34m\"name\"\u001b[0m\u001b[1;33m]\u001b[0m\u001b[1;33m)\u001b[0m\u001b[1;33m\u001b[0m\u001b[1;33m\u001b[0m\u001b[0m\n",
      "\u001b[1;31mNameError\u001b[0m: name 'raw_data' is not defined"
     ]
    }
   ],
   "source": [
    "for city in raw_data.locations.iloc[2]:\n",
    "  print(city[\"name\"])"
   ]
  },
  {
   "cell_type": "code",
   "execution_count": 3,
   "metadata": {},
   "outputs": [],
   "source": [
    "dict_citymap = {\n",
    "  \"北京\": [\"北京\"],\n",
    "  \"天津\": [\"天津\"],\n",
    "  \"山西\": [\"太原\", \"阳泉\", \"晋城\", \"长治\", \"临汾\", \"运城\", \"忻州\", \"吕梁\", \"晋中\", \"大同\", \"朔州\"],\n",
    "  \"河北\": [\"沧州\", \"石家庄\", \"唐山\", \"保定\", \"廊坊\", \"衡水\", \"邯郸\", \"邢台\", \"张家口\", \"辛集\", \"秦皇岛\", \"定州\", \"承德\", \"涿州\"],\n",
    "  \"山东\": [\"济南\", \"淄博\", \"聊城\", \"德州\", \"滨州\", \"济宁\", \"菏泽\", \"枣庄\", \"烟台\", \"威海\", \"泰安\", \"青岛\", \"临沂\", \"莱芜\", \"东营\", \"潍坊\", \"日照\"],\n",
    "  \"河南\": [\"郑州\", \"新乡\", \"鹤壁\", \"安阳\", \"焦作\", \"濮阳\", \"开封\", \"驻马店\", \"商丘\", \"三门峡\", \"南阳\", \"洛阳\", \"周口\", \"许昌\", \"信阳\", \"漯河\", \"平顶山\", \"济源\"],\n",
    "  \"广东\": [\"珠海\", \"中山\", \"肇庆\", \"深圳\", \"清远\", \"揭阳\", \"江门\", \"惠州\", \"河源\", \"广州\", \"佛山\", \"东莞\", \"潮州\", \"汕尾\", \"梅州\", \"阳江\", \"云浮\", \"韶关\", \"湛江\", \"汕头\", \"茂名\"],\n",
    "  \"浙江\": [\"舟山\", \"温州\", \"台州\", \"绍兴\", \"衢州\", \"宁波\", \"丽水\", \"金华\", \"嘉兴\", \"湖州\", \"杭州\"],\n",
    "  \"宁夏\": [\"中卫\", \"银川\", \"吴忠\", \"石嘴山\", \"固原\"],\n",
    "  \"江苏\": [\"南京\",\"镇江\", \"扬州\", \"盐城\", \"徐州\", \"宿迁\", \"无锡\", \"苏州\", \"南通\", \"南京\", \"连云港\", \"淮安\", \"常州\", \"泰州\"],\n",
    "  \"湖南\": [\"长沙\", \"邵阳\", \"怀化\", \"株洲\", \"张家界\", \"永州\", \"益阳\", \"湘西\", \"娄底\", \"衡阳\", \"郴州\", \"岳阳\", \"常德\", \"湘潭\"],\n",
    "  \"吉林\": [\"长春\", \"长春\", \"通化\", \"松原\", \"四平\", \"辽源\", \"吉林\", \"延边\", \"白山\", \"白城\"],\n",
    "  \"福建\": [\"漳州\", \"厦门\", \"福州\", \"三明\", \"莆田\", \"宁德\", \"南平\", \"龙岩\", \"泉州\"],\n",
    "  \"甘肃\": [\"张掖\", \"陇南\", \"兰州\", \"嘉峪关\", \"白银\", \"武威\", \"天水\", \"庆阳\", \"平凉\", \"临夏\", \"酒泉\", \"金昌\", \"甘南\", \"定西\"],\n",
    "  \"陕西\": [\"榆林\", \"西安\", \"延安\", \"咸阳\", \"渭南\", \"铜川\", \"商洛\", \"汉中\", \"宝鸡\", \"安康\"],\n",
    "  \"辽宁\": [\"营口\", \"铁岭\", \"沈阳\", \"盘锦\", \"辽阳\", \"锦州\", \"葫芦岛\", \"阜新\", \"抚顺\", \"丹东\", \"大连\", \"朝阳\", \"本溪\", \"鞍山\"],\n",
    "  \"江西\": [\"鹰潭\", \"宜春\", \"上饶\", \"萍乡\", \"南昌\", \"景德镇\", \"吉安\", \"抚州\", \"新余\", \"九江\", \"赣州\"],\n",
    "  \"黑龙江\": [\"伊春\", \"七台河\", \"牡丹江\", \"鸡西\", \"黑河\", \"鹤岗\", \"哈尔滨\", \"大兴安岭\", \"绥化\", \"双鸭山\", \"齐齐哈尔\", \"佳木斯\", \"大庆\"],\n",
    "  \"安徽\": [\"宣城\", \"铜陵\", \"六安\", \"黄山\", \"淮南\", \"合肥\", \"阜阳\", \"亳州\", \"安庆\", \"池州\", \"宿州\", \"芜湖\", \"马鞍山\", \"淮北\", \"滁州\", \"蚌埠\"],\n",
    "  \"湖北\": [\"孝感\", \"武汉\", \"十堰\", \"荆门\", \"黄冈\", \"襄阳\", \"咸宁\", \"随州\", \"黄石\", \"恩施\", \"鄂州\", \"荆州\", \"宜昌\", \"潜江\", \"天门\", \"神农架\", \"仙桃\"],\n",
    "  \"青海\": [\"西宁\", \"海西\", \"海东\", \"玉树\", \"黄南\", \"海南\", \"海北\", \"果洛\"],\n",
    "  \"新疆\": [\"乌鲁木齐\", \"克州\", \"阿勒泰\", \"五家渠\", \"石河子\", \"伊犁\", \"吐鲁番\", \"塔城\", \"克拉玛依\", \"喀什\", \"和田\", \"哈密\", \"昌吉\", \"博尔塔拉\", \"阿克苏\", \"巴音郭楞\", \"阿拉尔\", \"图木舒克\", \"铁门关\"],\n",
    "  \"贵州\": [\"铜仁\", \"黔东南\", \"贵阳\", \"安顺\", \"遵义\", \"黔西南\", \"黔南\", \"六盘水\", \"毕节\"],\n",
    "  \"四川\": [\"成都市\",\"遂宁\", \"攀枝花\", \"眉山\", \"凉山\", \"成都\", \"巴中\", \"广安\", \"自贡\", \"甘孜\", \"资阳\", \"宜宾\", \"雅安\", \"内江\", \"南充\", \"绵阳\", \"泸州\", \"凉山\", \"乐山\", \"广元\", \"甘孜\", \"德阳\", \"达州\", \"阿坝\"],\n",
    "  \"上海\": [\"上海\"],\n",
    "  \"广西\": [\"南宁\", \"贵港\", \"玉林\", \"梧州\", \"钦州\", \"柳州\", \"来宾\", \"贺州\", \"河池\", \"桂林\", \"防城港\", \"崇左\", \"北海\", \"百色\"],\n",
    "  \"西藏\": [\"拉萨\", \"山南\", \"日喀则\", \"那曲\", \"林芝\", \"昌都\", \"阿里\"],\n",
    "  \"云南\": [\"昆明\", \"红河\", \"大理\", \"玉溪\", \"昭通\", \"西双版纳\", \"文山\", \"曲靖\", \"普洱\", \"怒江\", \"临沧\", \"丽江\", \"红河\", \"迪庆\", \"德宏\", \"大理\", \"楚雄\", \"保山\"],\n",
    "  \"内蒙古\": [\"呼和浩特\", \"乌兰察布\", \"兴安\", \"赤峰\", \"呼伦贝尔\", \"锡林郭勒\", \"乌海\", \"通辽\", \"巴彦淖尔\", \"阿拉善\", \"鄂尔多斯\", \"包头\"],\n",
    "  \"海南\": [\"海口\", \"三沙\", \"三亚\", \"临高\", \"五指山\", \"陵水\", \"文昌\", \"万宁\", \"白沙\", \"乐东\", \"澄迈\", \"屯昌\", \"定安\", \"东方\", \"保亭\", \"琼中\", \"琼海\", \"儋州\", \"昌江\"],\n",
    "  \"深圳\": [\"深圳\"],\n",
    "  \"广州\": [\"广州\"],\n",
    "  \"重庆\": [\"重庆\"],\n",
    "}\n",
    "\n",
    "dict_reverse_citymap = {}\n",
    "for shengfen, cities in dict_citymap.items():\n",
    "  for city in cities:\n",
    "    dict_reverse_citymap[city] = shengfen\n",
    "\n",
    "dict_reverse_citymap['帝都'] = '北京'\n",
    "dict_reverse_citymap['魔都'] = '上海'\n",
    "# print(dict_reverse_citymap)"
   ]
  },
  {
   "cell_type": "code",
   "execution_count": 8,
   "metadata": {},
   "outputs": [
    {
     "name": "stdout",
     "output_type": "stream",
     "text": [
      "0\n"
     ]
    }
   ],
   "source": [
    "dict_city = {}\n",
    "\n",
    "for ele in raw_data.locations:\n",
    "  for city in ele:\n",
    "    if city[\"name\"] in dict_reverse_citymap:\n",
    "      # 中国标准省份地名\n",
    "      location = dict_reverse_citymap[city[\"name\"]]\n",
    "      if location not in dict_city:\n",
    "        dict_city[location] = 1\n",
    "      else:\n",
    "        dict_city[location] += 1\n",
    "    else:\n",
    "      # 【非】中国标准省份地名\n",
    "      location = city[\"name\"].replace('省', '').replace('市', '')\n",
    "      for key in dict_reverse_citymap:\n",
    "        if location.find(key) !=-1:\n",
    "          # print(location)\n",
    "          location = dict_reverse_citymap[key]\n",
    "      if location not in dict_city:\n",
    "        dict_city[location] = 1\n",
    "      else:\n",
    "        dict_city[location] += 1\n",
    "\n",
    "print(\"深圳市\".find(\"深圳\"))\n",
    "dict_city = {k: dict_city[k] for k in sorted(dict_city, key=dict_city.get, reverse=True)}\n",
    "# print(dict_city)\n",
    "save_list_city = [\n",
    "  {\"location\": location,\n",
    "  \"count\": dict_city[location]} for location in dict_city\n",
    "]\n",
    "# print(save_list_city)\n",
    "\n"
   ]
  },
  {
   "cell_type": "code",
   "execution_count": 10,
   "metadata": {},
   "outputs": [],
   "source": [
    "sava_dict_count(\"locations\", save_list_city)\n",
    "sava_dict_count(\"dict_locations\", dict_city)"
   ]
  },
  {
   "cell_type": "markdown",
   "metadata": {},
   "source": [
    "# 统计教育程度"
   ]
  },
  {
   "cell_type": "code",
   "execution_count": 4,
   "metadata": {},
   "outputs": [
    {
     "name": "stdout",
     "output_type": "stream",
     "text": [
      "[{'school': {'id': '', 'type': 'topic', 'url': '', 'name': '东方红幼儿园', 'avatar_url': 'https://pic4.zhimg.com/e82bab09c_is.jpg', 'excerpt': '', 'introduction': ''}}]\n"
     ]
    }
   ],
   "source": [
    "print(raw_data.iloc[2].educations)"
   ]
  },
  {
   "cell_type": "code",
   "execution_count": 3,
   "metadata": {},
   "outputs": [],
   "source": [
    "def get_count_of_educations(data=raw_data[\"educations\"], key=\"name\"):\n",
    "  ret_dict = {\n",
    "    \"school\": {},\n",
    "    \"major\": {},\n",
    "    \"diploma\": {},\n",
    "    }\n",
    "  i=0\n",
    "  for ele_list in data:\n",
    "    for ele_dict in ele_list:\n",
    "      for ele in ele_dict:\n",
    "        try:\n",
    "          # print(ret_dict)\n",
    "          # print(ele,ele_dict[ele][\"name\"],ele_dict[ele])\n",
    "          tmp_key = ele_dict[ele][\"name\"]\n",
    "          if tmp_key not in ret_dict[ele]:\n",
    "            ret_dict[ele][tmp_key] = 1\n",
    "          else:\n",
    "            ret_dict[ele][tmp_key] += 1\n",
    "        except:\n",
    "          pass\n",
    "          # print(ele,ele_dict[ele])\n",
    "      # print(\"---------\")\n",
    "      i += 1\n",
    "      # if(i > 100): return 0\n",
    "      \n",
    "  ret_dict[\"school\"] = {k: ret_dict[\"school\"][k] for k in sorted(ret_dict[\"school\"], key=ret_dict[\"school\"].get, reverse=True)}\n",
    "  ret_dict[\"major\"] = {k: ret_dict[\"major\"][k] for k in sorted(ret_dict[\"major\"], key=ret_dict[\"major\"].get, reverse=True)}\n",
    "  ret_dict[\"diploma\"] = {k: ret_dict[\"diploma\"][k] for k in sorted(ret_dict[\"diploma\"], key=ret_dict[\"diploma\"].get, reverse=True)}\n",
    "  return ret_dict\n",
    "\n",
    "\n",
    "\n",
    "dictionary = get_count_of_educations()\n",
    "sava_dict_count(\"educations\", dictionary)\n",
    "sava_dict_count(\"educations_school\", dictionary[\"school\"])\n",
    "sava_dict_count(\"educations_major\", dictionary[\"major\"])\n",
    "sava_dict_count(\"educations_diploma\", dictionary[\"diploma\"])"
   ]
  },
  {
   "cell_type": "markdown",
   "metadata": {},
   "source": [
    "# 统计职业"
   ]
  },
  {
   "cell_type": "code",
   "execution_count": 14,
   "metadata": {},
   "outputs": [
    {
     "name": "stdout",
     "output_type": "stream",
     "text": [
      "{'job', 'company'}\n",
      "[{'job': {'id': '19552637', 'type': 'topic', 'url': 'https://www.zhihu.com/topics/19552637', 'name': '合伙人', 'avatar_url': 'https://pic1.zhimg.com/9ccbe93b9_is.jpg', 'excerpt': '分享创业与合伙人相关的干货经验，交流学习', 'introduction': '分享创业与合伙人相关的干货经验，交流学习'}, 'company': {'id': '19733917', 'type': 'topic', 'url': 'https://www.zhihu.com/topics/19733917', 'name': 'ShowHouse室内设计事务所', 'avatar_url': 'https://pic4.zhimg.com/e82bab09c_is.jpg', 'excerpt': '', 'introduction': ''}}]\n"
     ]
    }
   ],
   "source": [
    "attr_set = set()\n",
    "for ele_list in raw_data[\"employments\"]:\n",
    "  for ele_dict in ele_list:\n",
    "    for key in ele_dict.keys():\n",
    "      attr_set.add(key)\n",
    "print(attr_set)\n",
    "print(raw_data[\"employments\"][2])"
   ]
  },
  {
   "cell_type": "code",
   "execution_count": 21,
   "metadata": {},
   "outputs": [],
   "source": [
    "ret_dict = {\n",
    "    \"job\": {},\n",
    "    \"company\": {}\n",
    "    }\n",
    "def get_count_of_employments(data=raw_data[\"employments\"], key=\"name\"):\n",
    "  i=0\n",
    "  for ele_list in data:\n",
    "    for ele_dict in ele_list:\n",
    "      for ele in ele_dict:\n",
    "        try:\n",
    "          # print(ret_dict)\n",
    "          # print(ele,ele_dict[ele][\"name\"],ele_dict[ele])\n",
    "          tmp_key = ele_dict[ele][\"name\"]\n",
    "          if tmp_key not in ret_dict[ele]:\n",
    "            ret_dict[ele][tmp_key] = 1\n",
    "          else:\n",
    "            ret_dict[ele][tmp_key] += 1\n",
    "        except:\n",
    "          pass\n",
    "          # print(ele,ele_dict[ele])\n",
    "      # print(\"---------\")\n",
    "      i += 1\n",
    "      # if(i > 100): return 0\n",
    "    \n",
    "  for key in ret_dict:\n",
    "    ret_dict[key] = {k: ret_dict[key][k] for k in sorted(ret_dict[key], key=ret_dict[key].get, reverse=True)}\n",
    "  return ret_dict\n",
    "\n",
    "\n",
    "\n",
    "dictionary = get_count_of_employments()\n",
    "sava_dict_count(\"employments\", dictionary)\n",
    "for key in ret_dict:\n",
    "  sava_dict_count(\"employments_\"+key, dictionary[key])"
   ]
  },
  {
   "cell_type": "markdown",
   "metadata": {},
   "source": [
    "# 统计公司"
   ]
  },
  {
   "cell_type": "code",
   "execution_count": 24,
   "metadata": {},
   "outputs": [
    {
     "name": "stdout",
     "output_type": "stream",
     "text": [
      "{'id': '20010720', 'type': 'topic', 'url': 'https://www.zhihu.com/topics/20010720', 'name': '创意艺术', 'avatar_url': 'https://pic4.zhimg.com/e82bab09c_is.jpg', 'excerpt': '', 'introduction': ''}\n",
      "{'name', 'avatar_url', 'introduction', 'type', 'excerpt', 'id', 'url'}\n"
     ]
    }
   ],
   "source": [
    "\n",
    "print(raw_data[\"business\"][2])\n",
    "attr_set = set()\n",
    "for ele_dict in raw_data[\"business\"]:\n",
    "  for key in ele_dict.keys():\n",
    "    attr_set.add(key)\n",
    "print(attr_set)"
   ]
  },
  {
   "cell_type": "code",
   "execution_count": 33,
   "metadata": {},
   "outputs": [
    {
     "name": "stdout",
     "output_type": "stream",
     "text": [
      "{'互联网': 6991, '计算机软件': 2117, '高等教育': 1633, '创意艺术': 1205, '金融': 1163, '临床医疗': 950, '电子商务': 911, '教育': 852, '法律': 814, '高新科技': 744, '基础教育': 653, '科研': 639, '财务': 591, '电子游戏': 580, '咨询分析': 543, '房地产': 519, '政府': 501, '证券投资': 474, '汽车': 473, '培训': 462, '信息传媒': 446, '广播电视': 420, '资本投资': 406, '广告': 381, '银行': 367, '通信': 360, '机械设备': 328, '地产建筑': 317, '军火': 293, '出版业': 288, '旅游': 288, '电子电器': 283, '人力资源': 274, '非营利组织': 273, '计算机硬件': 269, '餐饮': 267, '医疗服务': 257, '体育健身': 252, '艺术娱乐': 242, '制药': 242, '进出口贸易': 218, '装饰装潢': 209, '电力电网': 199, '娱乐休闲': 185, '幼儿教育': 180, '化工业': 175, '审计': 174, '渔业': 170, '服务业': 168, '市场推广': 167, '环境保护': 162, '建筑设备': 161, '保险': 158, '生物工程': 153, '畜牧养殖业': 152, '食品饮料业': 143, '零售': 142, '种植业': 142, '职业教育': 138, '制造加工': 137, '民用航空业': 129, '电影录音': 124, '美容': 124, '服装业': 121, '公共服务': 112, '国防军事': 110, '护理服务': 110, '景观': 108, '图书馆': 107, '公共管理': 96, '酒店': 95, '医疗器材': 94, '特殊教育': 91, '水利能源': 91, '特殊建造': 83, '铁路运输': 81, '公关': 79, '保健': 74, '石油工业': 73, '农林牧渔': 70, '航天': 69, '航运业': 67, '金属加工': 62, '社工服务': 55, '博物馆': 53, '家具': 53, '给排水': 48, '贸易零售': 48, '信贷': 47, '林业': 46, '博彩': 45, '煤炭工业': 40, '养老服务': 38, '物流递送': 38, '策展': 37, '大宗交易': 34, '纺织皮革业': 34, '塑料工业': 32, '地面运输': 31, '疗养服务': 20, '有色金属': 18, '黑色金属': 17, '印刷业': 16, '交通仓储': 15, '物业服务': 15, '土砂石开采': 13, '烟草业': 13, '邮政': 9, '开采冶金': 8, '造纸业': 7, '管线运输': 6, '地热开采': 5}\n"
     ]
    }
   ],
   "source": [
    "ret_dict = {\n",
    "    }\n",
    "attr = \"business\"\n",
    "data=raw_data[attr]\n",
    "key=\"name\"\n",
    "\n",
    "i=0\n",
    "for ele_dict in raw_data[\"business\"]:\n",
    "    try:\n",
    "      # print(ret_dict)\n",
    "      # print(ele,ele_dict[ele][\"name\"],ele_dict[ele])\n",
    "      tmp_key = ele_dict[\"name\"]\n",
    "      if tmp_key not in ret_dict:\n",
    "        ret_dict[tmp_key] = 1\n",
    "      else:\n",
    "        ret_dict[tmp_key] += 1\n",
    "    except:\n",
    "      pass\n",
    "      # print(ele,ele_dict[ele])\n",
    "    # print(\"---------\")\n",
    "    i += 1\n",
    "    # if(i > 100): return 0\n",
    "  \n",
    "ret_dict = {k: ret_dict[k] for k in sorted(ret_dict, key=ret_dict.get, reverse=True)}\n",
    "ret_dict.pop('', None)\n",
    "\n",
    "\n",
    "\n",
    "dictionary = ret_dict\n",
    "print(dictionary)\n",
    "sava_dict_count(attr, dictionary)"
   ]
  },
  {
   "cell_type": "markdown",
   "metadata": {},
   "source": [
    "# 统计性别"
   ]
  },
  {
   "cell_type": "code",
   "execution_count": 45,
   "metadata": {},
   "outputs": [
    {
     "name": "stdout",
     "output_type": "stream",
     "text": [
      "张佳玮: 1\n",
      "吐槽咪: 1\n",
      "SunLau: 1\n",
      "张英锋: 1\n",
      "龚莞婷: 0\n",
      "MasterPa: 1\n",
      "白纱裙舞蹈: -1\n",
      "汗青: 1\n",
      "越石赋扶风: 0\n",
      "Luxenius: 1\n",
      "螺旋真理: 1\n",
      "陈佩斯: 1\n"
     ]
    }
   ],
   "source": [
    "for idx in range(0,len(raw_data)):\n",
    "  ele_name = raw_data[\"name\"][idx]\n",
    "  print(ele_name+\":\",raw_data[\"gender\"][idx])\n",
    "  if idx > 10: break"
   ]
  },
  {
   "cell_type": "code",
   "execution_count": 48,
   "metadata": {},
   "outputs": [
    {
     "name": "stdout",
     "output_type": "stream",
     "text": [
      "{'男': 32413, '女': 36929, '未知': 30676}\n"
     ]
    }
   ],
   "source": [
    "ret_dict = {\n",
    "    }\n",
    "attr = \"gender\"\n",
    "data=raw_data[attr]\n",
    "key=\"name\"\n",
    "\n",
    "i=0\n",
    "for ele in raw_data[attr]:\n",
    "    try:\n",
    "      tmp_key = ele\n",
    "      if tmp_key not in ret_dict:\n",
    "        ret_dict[tmp_key] = 1\n",
    "      else:\n",
    "        ret_dict[tmp_key] += 1\n",
    "    except:\n",
    "      pass\n",
    "    i += 1\n",
    "  \n",
    "ret_dict = {k: ret_dict[k] for k in sorted(ret_dict, key=ret_dict.get, reverse=True)}\n",
    "ret_dict.pop('', None)\n",
    "\n",
    "\n",
    "dictionary = ret_dict\n",
    "dictionary[\"男\"] = dictionary.pop(1)\n",
    "dictionary[\"女\"] = dictionary.pop(-1)\n",
    "dictionary[\"未知\"] = dictionary.pop(0)\n",
    "print(dictionary)\n",
    "sava_dict_count(attr, dictionary)"
   ]
  },
  {
   "cell_type": "markdown",
   "metadata": {},
   "source": [
    "# 统计用户类别"
   ]
  },
  {
   "cell_type": "code",
   "execution_count": 50,
   "metadata": {},
   "outputs": [
    {
     "name": "stdout",
     "output_type": "stream",
     "text": [
      "{'people', 'organization'}\n"
     ]
    }
   ],
   "source": [
    "my_set = set()\n",
    "for idx in range(0,len(raw_data)):\n",
    "  ele_name = raw_data[\"user_type\"][idx]\n",
    "  # print(ele_name+\":\",raw_data[\"user_type\"][idx])\n",
    "  my_set.add(raw_data[\"user_type\"][idx])\n",
    "  # if idx > 10: break\n",
    "print(my_set)"
   ]
  },
  {
   "cell_type": "code",
   "execution_count": 51,
   "metadata": {},
   "outputs": [
    {
     "name": "stdout",
     "output_type": "stream",
     "text": [
      "{'组织': 815, '个人': 99203}\n"
     ]
    }
   ],
   "source": [
    "ret_dict = {\n",
    "    }\n",
    "attr = \"user_type\"\n",
    "data=raw_data[attr]\n",
    "\n",
    "i=0\n",
    "for ele in raw_data[attr]:\n",
    "    try:\n",
    "      tmp_key = ele\n",
    "      if tmp_key not in ret_dict:\n",
    "        ret_dict[tmp_key] = 1\n",
    "      else:\n",
    "        ret_dict[tmp_key] += 1\n",
    "    except:\n",
    "      pass\n",
    "    i += 1\n",
    "  \n",
    "ret_dict = {k: ret_dict[k] for k in sorted(ret_dict, key=ret_dict.get, reverse=True)}\n",
    "ret_dict.pop('', None)\n",
    "\n",
    "\n",
    "dictionary = ret_dict\n",
    "dictionary[\"组织\"] = dictionary.pop(\"organization\")\n",
    "dictionary[\"个人\"] = dictionary.pop(\"people\")\n",
    "print(dictionary)\n",
    "sava_dict_count(attr, dictionary)"
   ]
  },
  {
   "cell_type": "markdown",
   "metadata": {},
   "source": [
    "# 统计数值活跃度"
   ]
  },
  {
   "cell_type": "code",
   "execution_count": null,
   "metadata": {},
   "outputs": [],
   "source": []
  },
  {
   "cell_type": "code",
   "execution_count": 7,
   "metadata": {},
   "outputs": [
    {
     "name": "stdout",
     "output_type": "stream",
     "text": [
      "{'answer_count': {'min': 0, 'max': 8067}, 'articles_count': {'min': 0, 'max': 3431}, 'voteup_count': {'min': 0, 'max': 6308619}, 'thanked_count': {'min': 0, 'max': 794983}, 'favorited_count': {'min': 0, 'max': 2467795}, 'follower_count': {'min': 0, 'max': 2123468}, 'following_count': {'min': 0, 'max': 11205}}\n"
     ]
    }
   ],
   "source": [
    "num_columns = [\n",
    "  \"answer_count\",\n",
    "  \"articles_count\",\n",
    "  \"voteup_count\",\n",
    "  \"thanked_count\",\n",
    "  \"favorited_count\",\n",
    "  \"follower_count\",\n",
    "  \"following_count\",\n",
    "]\n",
    "\n",
    "min_max_dict = {}\n",
    "for attr in num_columns:\n",
    "  min_max_dict[attr] = {}\n",
    "  min_max_dict[attr][\"min\"] = 10000000\n",
    "  min_max_dict[attr][\"max\"] = 0\n",
    "  \n",
    "for idx in range(0,len(raw_data)):\n",
    "  for attr in num_columns:\n",
    "    # print(raw_data[attr][idx])\n",
    "    min_max_dict[attr][\"min\"] = min(min_max_dict[attr][\"min\"], raw_data[attr][idx])\n",
    "    min_max_dict[attr][\"max\"] = max(min_max_dict[attr][\"max\"], raw_data[attr][idx])\n",
    "  \n",
    "print(min_max_dict)"
   ]
  },
  {
   "cell_type": "code",
   "execution_count": 5,
   "metadata": {},
   "outputs": [
    {
     "name": "stdout",
     "output_type": "stream",
     "text": [
      "{'[1, 10]': 31722, '[10, 100]': 30358, '0': 29628, '[100, 1000]': 7970, '[1000, 10000]': 340}\n",
      "{'0': 82890, '[1, 10]': 10921, '[10, 100]': 5176, '[100, 1000]': 1015, '[1000, 10000]': 16}\n",
      "{'0': 37088, '[100, 1000]': 16921, '[10, 100]': 14654, '[1000, 10000]': 13929, '[1, 10]': 12678, '[10000, 100000]': 4479, '[100000, 1000000]': 262, '[1000000, 10000000]': 7}\n",
      "{'0': 44841, '[10, 100]': 16960, '[1, 10]': 16282, '[100, 1000]': 15537, '[1000, 10000]': 5856, '[10000, 100000]': 523, '[100000, 1000000]': 19}\n",
      "{'0': 43615, '[100, 1000]': 16361, '[10, 100]': 14941, '[1, 10]': 13172, '[1000, 10000]': 9661, '[10000, 100000]': 2123, '[100000, 1000000]': 143, '[1000000, 10000000]': 2}\n",
      "{'[1, 10]': 28292, '[10, 100]': 23686, '0': 20020, '[100, 1000]': 19479, '[1000, 10000]': 7404, '[10000, 100000]': 1040, '[100000, 1000000]': 96, '[1000000, 10000000]': 1}\n",
      "{'[10, 100]': 47155, '[1, 10]': 25214, '[100, 1000]': 21029, '0': 4915, '[1000, 10000]': 1704, '[10000, 100000]': 1}\n"
     ]
    }
   ],
   "source": [
    "import math\n",
    "for attr in num_columns:\n",
    "  ret_dict = { }\n",
    "  data=raw_data[attr]\n",
    "  key=\"name\"\n",
    "\n",
    "  i=0\n",
    "  for ele in data:\n",
    "    try:\n",
    "      length = min_max_dict[attr][\"max\"] - min_max_dict[attr][\"min\"]\n",
    "      margin = length // 20\n",
    "      if ele == 0:\n",
    "        tmp_key = \"0\"\n",
    "      else:\n",
    "        tmp_key = \"[\" + str(pow(10, int(math.log10(ele)))) + \", \"\n",
    "        tmp_key += str(pow(10, int(math.log10(ele)) + 1))\n",
    "        tmp_key += \"]\"\n",
    "      if tmp_key not in ret_dict:\n",
    "        ret_dict[tmp_key] = 1\n",
    "      else:\n",
    "        ret_dict[tmp_key] += 1\n",
    "    except:\n",
    "      pass\n",
    "    i += 1\n",
    "    \n",
    "  ret_dict = {k: ret_dict[k] for k in sorted(ret_dict, key=ret_dict.get, reverse=True)}\n",
    "\n",
    "  print(ret_dict)\n",
    "  sava_dict_count(attr, ret_dict)"
   ]
  },
  {
   "cell_type": "code",
   "execution_count": null,
   "metadata": {},
   "outputs": [],
   "source": []
  },
  {
   "cell_type": "markdown",
   "metadata": {},
   "source": [
    "# 高阶特征数据"
   ]
  },
  {
   "cell_type": "code",
   "execution_count": 3,
   "metadata": {},
   "outputs": [],
   "source": [
    "total_count_dict = {}\n",
    "for attr in raw_data:\n",
    "    for ele in raw_data[attr]:\n",
    "        count_dict = {}\n",
    "        if isinstance(ele, list):\n",
    "            if len(ele) > 0:\n",
    "                for item in ele:\n",
    "                    if \"name\" in item:\n",
    "                        if not isinstance(item, dict):\n",
    "                            continue\n",
    "                        key = item[\"name\"]\n",
    "                        if key not in count_dict:\n",
    "                            count_dict[key] = 1\n",
    "                        else:\n",
    "                            count_dict[key] += 1\n",
    "                    else:\n",
    "                        for item_key in item:\n",
    "                            if not isinstance(item[item_key], dict):\n",
    "                                continue\n",
    "                            key = item[item_key][\"name\"]\n",
    "                            if item_key not in count_dict:\n",
    "                                count_dict[item_key] = {}\n",
    "                            if key not in count_dict[item_key]:\n",
    "                                count_dict[item_key][key] = 1\n",
    "                            else:\n",
    "                                count_dict[item_key][key] += 1\n",
    "        elif isinstance(ele, dict):\n",
    "            key = ele[\"name\"]\n",
    "            if key not in count_dict:\n",
    "                count_dict[key] = 1\n",
    "            else:\n",
    "                count_dict[key] += 1\n",
    "        else:\n",
    "            key = ele\n",
    "            if key not in count_dict:\n",
    "                count_dict[key] = 1\n",
    "            else:\n",
    "                count_dict[key] += 1\n",
    "    total_count_dict[attr] = count_dict\n",
    "    # print(\"count_dict:\",count_dict)\n",
    "                "
   ]
  },
  {
   "cell_type": "code",
   "execution_count": null,
   "metadata": {},
   "outputs": [],
   "source": [
    "for attr in raw_data:\n",
    "    count_dict = {}\n",
    "    for ele in raw_data[attr]:\n",
    "        if isinstance(ele, list):\n",
    "            if len(ele) > 0:\n",
    "                for item in ele:\n",
    "                    if \"name\" in item:\n",
    "                        if not isinstance(item, dict):\n",
    "                            continue\n",
    "                        key = item[\"name\"]\n",
    "                        if key not in count_dict:\n",
    "                            count_dict[key] = 1\n",
    "                        else:\n",
    "                            count_dict[key] += 1\n",
    "                    else:\n",
    "                        for item_key in item:\n",
    "                            if not isinstance(item[item_key], dict):\n",
    "                                continue\n",
    "                            key = item[item_key][\"name\"]\n",
    "                            if item_key not in count_dict:\n",
    "                                count_dict[item_key] = {}\n",
    "                            if key not in count_dict[item_key]:\n",
    "                                count_dict[item_key][key] = 1\n",
    "                            else:\n",
    "                                count_dict[item_key][key] += 1\n",
    "        elif isinstance(ele, dict):\n",
    "            key = ele[\"name\"]\n",
    "            if key not in count_dict:\n",
    "                count_dict[key] = 1\n",
    "            else:\n",
    "                count_dict[key] += 1\n",
    "        else:\n",
    "            key = ele\n",
    "            if key not in count_dict:\n",
    "                count_dict[key] = 1\n",
    "            else:\n",
    "                count_dict[key] += 1"
   ]
  },
  {
   "cell_type": "code",
   "execution_count": null,
   "metadata": {},
   "outputs": [],
   "source": []
  },
  {
   "cell_type": "code",
   "execution_count": 5,
   "metadata": {},
   "outputs": [
    {
     "name": "stderr",
     "output_type": "stream",
     "text": [
      "100%|██████████| 100018/100018 [00:01<00:00, 51244.55it/s]\n"
     ]
    }
   ],
   "source": [
    "from tqdm import tqdm\n",
    "\n",
    "num_columns = [\n",
    "  \"following_num\",\n",
    "]\n",
    "\n",
    "following_count_dict = {}\n",
    "  \n",
    "for idx in tqdm(range(0, len(raw_data))):\n",
    "  following_count_dict[raw_data['name'][idx]] = raw_data['following_count'][idx]\n",
    "  \n",
    "# print(following_count_dict)"
   ]
  },
  {
   "cell_type": "code",
   "execution_count": 6,
   "metadata": {},
   "outputs": [
    {
     "name": "stdout",
     "output_type": "stream",
     "text": [
      "{'柳亚': 11205, 'yskin': 7140, '宋前进': 6311, '英小胖': 6261, '吴思扬': 5246, '网路冷眼': 5170, 'liugazhi': 5000, '冯提莫是我校友': 5000, '青宁晴水': 5000, 'Amartya': 5000, '只关注本质': 5000, '不摇不摆胖大海': 5000, 'game love': 5000, '归兮彼荒': 5000, '绿绿经略使': 5000, '好运': 5000, '张宇泽': 5000, '汪蚁': 5000, '小小小小小茗': 5000, '荀子要劝学': 5000, '已退贵乎': 5000, '山水田园': 5000, '阿King': 5000, '王文平家的茶': 5000, 'leave': 5000, '安德烈': 5000, '南楠男': 5000, '王逸之': 5000, '苏利斌': 5000, '旧城往事': 5000, '岁月漫步': 5000, '陈天宇': 5000, '知难行亦难': 5000, '艾青': 5000, 'woma woma': 5000, '热水': 5000, '舵主家工作室': 5000, '浮在空中的鱼': 5000, '何梓': 5000, '简·丹': 5000, '人丑多读书奋进': 5000, 'ataiya': 5000, 'Steve He': 5000, '梁音': 5000, '唐唐': 5000, '王呆仁': 5000, '刘朝今': 5000, '施峥嵘': 5000, 'Noah White': 5000, '石秀': 5000, '王林杰': 5000}\n"
     ]
    }
   ],
   "source": [
    "a = sorted(following_count_dict.items(), key=lambda x: x[1], reverse=True)\n",
    "a = dict(a)\n",
    "\n",
    "new_a = {}\n",
    "for i, (k,v) in enumerate(a.items()):\n",
    "    new_a[k]=v\n",
    "    if i==50:\n",
    "        print(new_a)\n",
    "        break\n"
   ]
  },
  {
   "cell_type": "code",
   "execution_count": 7,
   "metadata": {},
   "outputs": [],
   "source": [
    "import numpy as np\n",
    "def default_dump(obj):\n",
    "    \"\"\"Convert numpy classes to JSON serializable objects.\"\"\"\n",
    "    if isinstance(obj, (np.integer, np.floating, np.bool_)):\n",
    "        return obj.item()\n",
    "    elif isinstance(obj, np.ndarray):\n",
    "        return obj.tolist()\n",
    "    else:\n",
    "        return obj\n",
    "\n",
    "import json\n",
    "with open(\"following_num\"+\"_count.json\", 'w', encoding='utf-8') as f:\n",
    "    json.dump(new_a, f, ensure_ascii=False, indent=4, default=default_dump)"
   ]
  },
  {
   "cell_type": "code",
   "execution_count": null,
   "metadata": {},
   "outputs": [],
   "source": []
  }
 ],
 "metadata": {
  "kernelspec": {
   "display_name": "Python 3.8.12 ('pytorch')",
   "language": "python",
   "name": "python3"
  },
  "language_info": {
   "codemirror_mode": {
    "name": "ipython",
    "version": 3
   },
   "file_extension": ".py",
   "mimetype": "text/x-python",
   "name": "python",
   "nbconvert_exporter": "python",
   "pygments_lexer": "ipython3",
   "version": "3.8.12"
  },
  "orig_nbformat": 4,
  "vscode": {
   "interpreter": {
    "hash": "d2ebab8486795277e4960eac52b993109f4ee36b7fdff455d75fb57f86794525"
   }
  }
 },
 "nbformat": 4,
 "nbformat_minor": 2
}
