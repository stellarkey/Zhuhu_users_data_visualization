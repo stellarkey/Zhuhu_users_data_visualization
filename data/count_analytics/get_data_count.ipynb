{
 "cells": [
  {
   "cell_type": "code",
   "execution_count": 1,
   "metadata": {},
   "outputs": [
    {
     "name": "stdout",
     "output_type": "stream",
     "text": [
      "answer_count                                                     879\n",
      "articles_count                                                    17\n",
      "avatar_url                   https://pic1.zhimg.com/36625a7b4_is.jpg\n",
      "business           {'id': '20010720', 'type': 'topic', 'url': 'ht...\n",
      "description        合作请邮件联系。设计预约请私信或邮件 sunlau@me.com，告知城市+期待入住时间+整...\n",
      "educations         [{'school': {'id': '', 'type': 'topic', 'url':...\n",
      "employments        [{'job': {'id': '19552637', 'type': 'topic', '...\n",
      "favorited_count                                               191226\n",
      "follower_count                                                443647\n",
      "following_count                                                  414\n",
      "gender                                                             1\n",
      "headline                                                室内设计师 ，自由码字人\n",
      "locations          [{'id': '19595689', 'type': 'topic', 'url': 'h...\n",
      "name                                                          SunLau\n",
      "thanked_count                                                  33485\n",
      "url_token                                                     sunlau\n",
      "user_type                                                     people\n",
      "voteup_count                                                   90058\n",
      "Name: 2, dtype: object\n"
     ]
    }
   ],
   "source": [
    "import pandas as pd\n",
    "\n",
    "raw_data = pd.read_json(\"../items.json\")\n",
    "print(raw_data.iloc[2])"
   ]
  },
  {
   "cell_type": "markdown",
   "metadata": {},
   "source": [
    "# 统计居住地分布"
   ]
  },
  {
   "cell_type": "code",
   "execution_count": 8,
   "metadata": {},
   "outputs": [
    {
     "name": "stdout",
     "output_type": "stream",
     "text": [
      "苏州\n",
      "济南\n",
      "郑州\n",
      "东莞\n",
      "北京\n"
     ]
    }
   ],
   "source": [
    "for city in raw_data.locations.iloc[2]:\n",
    "  print(city[\"name\"])"
   ]
  },
  {
   "cell_type": "code",
   "execution_count": 26,
   "metadata": {},
   "outputs": [],
   "source": [
    "dict_city = {}\n",
    "\n",
    "for ele in raw_data.locations:\n",
    "  for city in ele:\n",
    "    if city[\"name\"] not in dict_city:\n",
    "      dict_city[city[\"name\"]] = 1\n",
    "    else:\n",
    "      dict_city[city[\"name\"]] += 1\n",
    "\n",
    "dict_city = {k: dict_city[k] for k in sorted(dict_city, key=dict_city.get, reverse=True)}\n",
    "\n"
   ]
  },
  {
   "cell_type": "code",
   "execution_count": 5,
   "metadata": {},
   "outputs": [],
   "source": [
    "def get_count_of_list_structure(data, key):\n",
    "  ret_dict = {}\n",
    "  for list_ele in data:\n",
    "    for ele in list_ele:\n",
    "      if ele[key] not in ret_dict:\n",
    "        ret_dict[ele[key]] = 1\n",
    "      else:\n",
    "        ret_dict[ele[key]] += 1\n",
    "  ret_dict = {k: ret_dict[k] for k in sorted(ret_dict, key=ret_dict.get, reverse=True)}\n",
    "  return ret_dict\n",
    "\n",
    "def sava_dict_count(attribute, dictionary):\n",
    "  import json\n",
    "  with open(attribute+\"_count.json\", 'w', encoding='utf-8') as f:\n",
    "      json.dump(dictionary, f, ensure_ascii=False, indent=4)"
   ]
  },
  {
   "cell_type": "code",
   "execution_count": 24,
   "metadata": {},
   "outputs": [],
   "source": [
    "sava_dict_count(\"locations\", get_count_of_list_structure(raw_data[\"locations\"], \"name\"))"
   ]
  },
  {
   "cell_type": "markdown",
   "metadata": {},
   "source": [
    "# 统计教育程度"
   ]
  },
  {
   "cell_type": "code",
   "execution_count": 13,
   "metadata": {},
   "outputs": [
    {
     "name": "stdout",
     "output_type": "stream",
     "text": [
      "[{'job': {'id': '19552637', 'type': 'topic', 'url': 'https://www.zhihu.com/topics/19552637', 'name': '合伙人', 'avatar_url': 'https://pic1.zhimg.com/9ccbe93b9_is.jpg', 'excerpt': '分享创业与合伙人相关的干货经验，交流学习', 'introduction': '分享创业与合伙人相关的干货经验，交流学习'}, 'company': {'id': '19733917', 'type': 'topic', 'url': 'https://www.zhihu.com/topics/19733917', 'name': 'ShowHouse室内设计事务所', 'avatar_url': 'https://pic4.zhimg.com/e82bab09c_is.jpg', 'excerpt': '', 'introduction': ''}}]\n",
      "[{'school': {'id': '', 'type': 'topic', 'url': '', 'name': '东方红幼儿园', 'avatar_url': 'https://pic4.zhimg.com/e82bab09c_is.jpg', 'excerpt': '', 'introduction': ''}}]\n"
     ]
    }
   ],
   "source": [
    "print(raw_data.iloc[2].educations)"
   ]
  },
  {
   "cell_type": "code",
   "execution_count": 7,
   "metadata": {},
   "outputs": [],
   "source": [
    "def get_count_of_educations(data=raw_data[\"educations\"], key=\"name\"):\n",
    "  ret_dict = {\n",
    "    \"school\": {},\n",
    "    \"major\": {},\n",
    "    \"diploma\": {},\n",
    "    }\n",
    "  i=0\n",
    "  for ele_list in data:\n",
    "    for ele_dict in ele_list:\n",
    "      for ele in ele_dict:\n",
    "        try:\n",
    "          # print(ret_dict)\n",
    "          # print(ele,ele_dict[ele][\"name\"],ele_dict[ele])\n",
    "          tmp_key = ele_dict[ele][\"name\"]\n",
    "          if tmp_key not in ret_dict[ele]:\n",
    "            ret_dict[ele][tmp_key] = 1\n",
    "          else:\n",
    "            ret_dict[ele][tmp_key] += 1\n",
    "        except:\n",
    "          pass\n",
    "          # print(ele,ele_dict[ele])\n",
    "      # print(\"---------\")\n",
    "      i += 1\n",
    "      # if(i > 100): return 0\n",
    "      \n",
    "  ret_dict[\"school\"] = {k: ret_dict[\"school\"][k] for k in sorted(ret_dict[\"school\"], key=ret_dict[\"school\"].get, reverse=True)}\n",
    "  ret_dict[\"major\"] = {k: ret_dict[\"major\"][k] for k in sorted(ret_dict[\"major\"], key=ret_dict[\"major\"].get, reverse=True)}\n",
    "  return ret_dict\n",
    "\n",
    "\n",
    "\n",
    "dictionary = get_count_of_educations()\n",
    "sava_dict_count(\"educations\", dictionary)\n",
    "sava_dict_count(\"educations_school\", dictionary[\"school\"])\n",
    "sava_dict_count(\"educations_major\", dictionary[\"major\"])"
   ]
  },
  {
   "cell_type": "markdown",
   "metadata": {},
   "source": [
    "# 统计职业"
   ]
  },
  {
   "cell_type": "code",
   "execution_count": 22,
   "metadata": {},
   "outputs": [
    {
     "name": "stdout",
     "output_type": "stream",
     "text": [
      "[{'job': {'id': '19552637', 'type': 'topic', 'url': 'https://www.zhihu.com/topics/19552637', 'name': '合伙人', 'avatar_url': 'https://pic1.zhimg.com/9ccbe93b9_is.jpg', 'excerpt': '分享创业与合伙人相关的干货经验，交流学习', 'introduction': '分享创业与合伙人相关的干货经验，交流学习'}, 'company': {'id': '19733917', 'type': 'topic', 'url': 'https://www.zhihu.com/topics/19733917', 'name': 'ShowHouse室内设计事务所', 'avatar_url': 'https://pic4.zhimg.com/e82bab09c_is.jpg', 'excerpt': '', 'introduction': ''}}]\n"
     ]
    }
   ],
   "source": [
    "print(raw_data.iloc[2].employments)"
   ]
  }
 ],
 "metadata": {
  "interpreter": {
   "hash": "7bb93025c59856bded36afd37d2470052c421d333c99f2f3a784820eb03d1847"
  },
  "kernelspec": {
   "display_name": "Python 3.7.0 ('base')",
   "language": "python",
   "name": "python3"
  },
  "language_info": {
   "codemirror_mode": {
    "name": "ipython",
    "version": 3
   },
   "file_extension": ".py",
   "mimetype": "text/x-python",
   "name": "python",
   "nbconvert_exporter": "python",
   "pygments_lexer": "ipython3",
   "version": "3.7.0"
  },
  "orig_nbformat": 4
 },
 "nbformat": 4,
 "nbformat_minor": 2
}
