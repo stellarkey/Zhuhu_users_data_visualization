{
 "cells": [
  {
   "cell_type": "code",
   "execution_count": 1,
   "metadata": {},
   "outputs": [
    {
     "name": "stdout",
     "output_type": "stream",
     "text": [
      "answer_count                                                     879\n",
      "articles_count                                                    17\n",
      "avatar_url                   https://pic1.zhimg.com/36625a7b4_is.jpg\n",
      "business           {'id': '20010720', 'type': 'topic', 'url': 'ht...\n",
      "description        合作请邮件联系。设计预约请私信或邮件 sunlau@me.com，告知城市+期待入住时间+整...\n",
      "educations         [{'school': {'id': '', 'type': 'topic', 'url':...\n",
      "employments        [{'job': {'id': '19552637', 'type': 'topic', '...\n",
      "favorited_count                                               191226\n",
      "follower_count                                                443647\n",
      "following_count                                                  414\n",
      "gender                                                             1\n",
      "headline                                                室内设计师 ，自由码字人\n",
      "locations          [{'id': '19595689', 'type': 'topic', 'url': 'h...\n",
      "name                                                          SunLau\n",
      "thanked_count                                                  33485\n",
      "url_token                                                     sunlau\n",
      "user_type                                                     people\n",
      "voteup_count                                                   90058\n",
      "Name: 2, dtype: object\n"
     ]
    }
   ],
   "source": [
    "import pandas as pd\n",
    "\n",
    "raw_data = pd.read_json(\"../items.json\")\n",
    "print(raw_data.iloc[2])"
   ]
  },
  {
   "cell_type": "markdown",
   "metadata": {},
   "source": [
    "# 统计居住地分布"
   ]
  },
  {
   "cell_type": "code",
   "execution_count": 32,
   "metadata": {},
   "outputs": [],
   "source": [
    "def sava_dict_count(attribute, dictionary):\n",
    "  import json\n",
    "  with open(attribute+\"_count.json\", 'w', encoding='utf-8') as f:\n",
    "      json.dump(dictionary, f, ensure_ascii=False, indent=4)"
   ]
  },
  {
   "cell_type": "code",
   "execution_count": 2,
   "metadata": {},
   "outputs": [
    {
     "name": "stdout",
     "output_type": "stream",
     "text": [
      "苏州\n",
      "济南\n",
      "郑州\n",
      "东莞\n",
      "北京\n"
     ]
    }
   ],
   "source": [
    "for city in raw_data.locations.iloc[2]:\n",
    "  print(city[\"name\"])"
   ]
  },
  {
   "cell_type": "code",
   "execution_count": 25,
   "metadata": {},
   "outputs": [],
   "source": [
    "dict_citymap = {\n",
    "  \"北京\": [\"北京\"],\n",
    "  \"天津\": [\"天津\"],\n",
    "  \"山西\": [\"太原\", \"阳泉\", \"晋城\", \"长治\", \"临汾\", \"运城\", \"忻州\", \"吕梁\", \"晋中\", \"大同\", \"朔州\"],\n",
    "  \"河北\": [\"沧州\", \"石家庄\", \"唐山\", \"保定\", \"廊坊\", \"衡水\", \"邯郸\", \"邢台\", \"张家口\", \"辛集\", \"秦皇岛\", \"定州\", \"承德\", \"涿州\"],\n",
    "  \"山东\": [\"济南\", \"淄博\", \"聊城\", \"德州\", \"滨州\", \"济宁\", \"菏泽\", \"枣庄\", \"烟台\", \"威海\", \"泰安\", \"青岛\", \"临沂\", \"莱芜\", \"东营\", \"潍坊\", \"日照\"],\n",
    "  \"河南\": [\"郑州\", \"新乡\", \"鹤壁\", \"安阳\", \"焦作\", \"濮阳\", \"开封\", \"驻马店\", \"商丘\", \"三门峡\", \"南阳\", \"洛阳\", \"周口\", \"许昌\", \"信阳\", \"漯河\", \"平顶山\", \"济源\"],\n",
    "  \"广东\": [\"珠海\", \"中山\", \"肇庆\", \"深圳\", \"清远\", \"揭阳\", \"江门\", \"惠州\", \"河源\", \"广州\", \"佛山\", \"东莞\", \"潮州\", \"汕尾\", \"梅州\", \"阳江\", \"云浮\", \"韶关\", \"湛江\", \"汕头\", \"茂名\"],\n",
    "  \"浙江\": [\"舟山\", \"温州\", \"台州\", \"绍兴\", \"衢州\", \"宁波\", \"丽水\", \"金华\", \"嘉兴\", \"湖州\", \"杭州\"],\n",
    "  \"宁夏\": [\"中卫\", \"银川\", \"吴忠\", \"石嘴山\", \"固原\"],\n",
    "  \"江苏\": [\"南京\",\"镇江\", \"扬州\", \"盐城\", \"徐州\", \"宿迁\", \"无锡\", \"苏州\", \"南通\", \"南京\", \"连云港\", \"淮安\", \"常州\", \"泰州\"],\n",
    "  \"湖南\": [\"长沙\", \"邵阳\", \"怀化\", \"株洲\", \"张家界\", \"永州\", \"益阳\", \"湘西\", \"娄底\", \"衡阳\", \"郴州\", \"岳阳\", \"常德\", \"湘潭\"],\n",
    "  \"吉林\": [\"长春\", \"长春\", \"通化\", \"松原\", \"四平\", \"辽源\", \"吉林\", \"延边\", \"白山\", \"白城\"],\n",
    "  \"福建\": [\"漳州\", \"厦门\", \"福州\", \"三明\", \"莆田\", \"宁德\", \"南平\", \"龙岩\", \"泉州\"],\n",
    "  \"甘肃\": [\"张掖\", \"陇南\", \"兰州\", \"嘉峪关\", \"白银\", \"武威\", \"天水\", \"庆阳\", \"平凉\", \"临夏\", \"酒泉\", \"金昌\", \"甘南\", \"定西\"],\n",
    "  \"陕西\": [\"榆林\", \"西安\", \"延安\", \"咸阳\", \"渭南\", \"铜川\", \"商洛\", \"汉中\", \"宝鸡\", \"安康\"],\n",
    "  \"辽宁\": [\"营口\", \"铁岭\", \"沈阳\", \"盘锦\", \"辽阳\", \"锦州\", \"葫芦岛\", \"阜新\", \"抚顺\", \"丹东\", \"大连\", \"朝阳\", \"本溪\", \"鞍山\"],\n",
    "  \"江西\": [\"鹰潭\", \"宜春\", \"上饶\", \"萍乡\", \"南昌\", \"景德镇\", \"吉安\", \"抚州\", \"新余\", \"九江\", \"赣州\"],\n",
    "  \"黑龙江\": [\"伊春\", \"七台河\", \"牡丹江\", \"鸡西\", \"黑河\", \"鹤岗\", \"哈尔滨\", \"大兴安岭\", \"绥化\", \"双鸭山\", \"齐齐哈尔\", \"佳木斯\", \"大庆\"],\n",
    "  \"安徽\": [\"宣城\", \"铜陵\", \"六安\", \"黄山\", \"淮南\", \"合肥\", \"阜阳\", \"亳州\", \"安庆\", \"池州\", \"宿州\", \"芜湖\", \"马鞍山\", \"淮北\", \"滁州\", \"蚌埠\"],\n",
    "  \"湖北\": [\"孝感\", \"武汉\", \"十堰\", \"荆门\", \"黄冈\", \"襄阳\", \"咸宁\", \"随州\", \"黄石\", \"恩施\", \"鄂州\", \"荆州\", \"宜昌\", \"潜江\", \"天门\", \"神农架\", \"仙桃\"],\n",
    "  \"青海\": [\"西宁\", \"海西\", \"海东\", \"玉树\", \"黄南\", \"海南\", \"海北\", \"果洛\"],\n",
    "  \"新疆\": [\"乌鲁木齐\", \"克州\", \"阿勒泰\", \"五家渠\", \"石河子\", \"伊犁\", \"吐鲁番\", \"塔城\", \"克拉玛依\", \"喀什\", \"和田\", \"哈密\", \"昌吉\", \"博尔塔拉\", \"阿克苏\", \"巴音郭楞\", \"阿拉尔\", \"图木舒克\", \"铁门关\"],\n",
    "  \"贵州\": [\"铜仁\", \"黔东南\", \"贵阳\", \"安顺\", \"遵义\", \"黔西南\", \"黔南\", \"六盘水\", \"毕节\"],\n",
    "  \"四川\": [\"成都市\",\"遂宁\", \"攀枝花\", \"眉山\", \"凉山\", \"成都\", \"巴中\", \"广安\", \"自贡\", \"甘孜\", \"资阳\", \"宜宾\", \"雅安\", \"内江\", \"南充\", \"绵阳\", \"泸州\", \"凉山\", \"乐山\", \"广元\", \"甘孜\", \"德阳\", \"达州\", \"阿坝\"],\n",
    "  \"上海\": [\"上海\"],\n",
    "  \"广西\": [\"南宁\", \"贵港\", \"玉林\", \"梧州\", \"钦州\", \"柳州\", \"来宾\", \"贺州\", \"河池\", \"桂林\", \"防城港\", \"崇左\", \"北海\", \"百色\"],\n",
    "  \"西藏\": [\"拉萨\", \"山南\", \"日喀则\", \"那曲\", \"林芝\", \"昌都\", \"阿里\"],\n",
    "  \"云南\": [\"昆明\", \"红河\", \"大理\", \"玉溪\", \"昭通\", \"西双版纳\", \"文山\", \"曲靖\", \"普洱\", \"怒江\", \"临沧\", \"丽江\", \"红河\", \"迪庆\", \"德宏\", \"大理\", \"楚雄\", \"保山\"],\n",
    "  \"内蒙古\": [\"呼和浩特\", \"乌兰察布\", \"兴安\", \"赤峰\", \"呼伦贝尔\", \"锡林郭勒\", \"乌海\", \"通辽\", \"巴彦淖尔\", \"阿拉善\", \"鄂尔多斯\", \"包头\"],\n",
    "  \"海南\": [\"海口\", \"三沙\", \"三亚\", \"临高\", \"五指山\", \"陵水\", \"文昌\", \"万宁\", \"白沙\", \"乐东\", \"澄迈\", \"屯昌\", \"定安\", \"东方\", \"保亭\", \"琼中\", \"琼海\", \"儋州\", \"昌江\"],\n",
    "  \"深圳\": [\"深圳\"],\n",
    "  \"广州\": [\"广州\"],\n",
    "  \"重庆\": [\"重庆\"],\n",
    "}\n",
    "\n",
    "dict_reverse_citymap = {}\n",
    "for shengfen, cities in dict_citymap.items():\n",
    "  for city in cities:\n",
    "    dict_reverse_citymap[city] = shengfen\n",
    "\n",
    "dict_reverse_citymap['帝都'] = '北京'\n",
    "dict_reverse_citymap['魔都'] = '上海'\n",
    "# print(dict_reverse_citymap)"
   ]
  },
  {
   "cell_type": "code",
   "execution_count": 31,
   "metadata": {},
   "outputs": [
    {
     "name": "stdout",
     "output_type": "stream",
     "text": [
      "0\n"
     ]
    }
   ],
   "source": [
    "dict_city = {}\n",
    "\n",
    "for ele in raw_data.locations:\n",
    "  for city in ele:\n",
    "    if city[\"name\"] in dict_reverse_citymap:\n",
    "      # 中国标准省份地名\n",
    "      location = dict_reverse_citymap[city[\"name\"]]\n",
    "      if location not in dict_city:\n",
    "        dict_city[location] = 1\n",
    "      else:\n",
    "        dict_city[location] += 1\n",
    "    else:\n",
    "      # 【非】中国标准省份地名\n",
    "      location = city[\"name\"].replace('省', '').replace('市', '')\n",
    "      for key in dict_reverse_citymap:\n",
    "        if location.find(key) !=-1:\n",
    "          # print(location)\n",
    "          location = dict_reverse_citymap[key]\n",
    "      if location not in dict_city:\n",
    "        dict_city[location] = 1\n",
    "      else:\n",
    "        dict_city[location] += 1\n",
    "\n",
    "print(\"深圳市\".find(\"深圳\"))\n",
    "dict_city = {k: dict_city[k] for k in sorted(dict_city, key=dict_city.get, reverse=True)}\n",
    "# print(dict_city)\n",
    "\n"
   ]
  },
  {
   "cell_type": "code",
   "execution_count": 33,
   "metadata": {},
   "outputs": [],
   "source": [
    "sava_dict_count(\"locations\", dict_city)"
   ]
  },
  {
   "cell_type": "markdown",
   "metadata": {},
   "source": [
    "# 统计教育程度"
   ]
  },
  {
   "cell_type": "code",
   "execution_count": null,
   "metadata": {},
   "outputs": [
    {
     "name": "stdout",
     "output_type": "stream",
     "text": [
      "[{'job': {'id': '19552637', 'type': 'topic', 'url': 'https://www.zhihu.com/topics/19552637', 'name': '合伙人', 'avatar_url': 'https://pic1.zhimg.com/9ccbe93b9_is.jpg', 'excerpt': '分享创业与合伙人相关的干货经验，交流学习', 'introduction': '分享创业与合伙人相关的干货经验，交流学习'}, 'company': {'id': '19733917', 'type': 'topic', 'url': 'https://www.zhihu.com/topics/19733917', 'name': 'ShowHouse室内设计事务所', 'avatar_url': 'https://pic4.zhimg.com/e82bab09c_is.jpg', 'excerpt': '', 'introduction': ''}}]\n",
      "[{'school': {'id': '', 'type': 'topic', 'url': '', 'name': '东方红幼儿园', 'avatar_url': 'https://pic4.zhimg.com/e82bab09c_is.jpg', 'excerpt': '', 'introduction': ''}}]\n"
     ]
    }
   ],
   "source": [
    "print(raw_data.iloc[2].educations)"
   ]
  },
  {
   "cell_type": "code",
   "execution_count": null,
   "metadata": {},
   "outputs": [],
   "source": [
    "def get_count_of_educations(data=raw_data[\"educations\"], key=\"name\"):\n",
    "  ret_dict = {\n",
    "    \"school\": {},\n",
    "    \"major\": {},\n",
    "    \"diploma\": {},\n",
    "    }\n",
    "  i=0\n",
    "  for ele_list in data:\n",
    "    for ele_dict in ele_list:\n",
    "      for ele in ele_dict:\n",
    "        try:\n",
    "          # print(ret_dict)\n",
    "          # print(ele,ele_dict[ele][\"name\"],ele_dict[ele])\n",
    "          tmp_key = ele_dict[ele][\"name\"]\n",
    "          if tmp_key not in ret_dict[ele]:\n",
    "            ret_dict[ele][tmp_key] = 1\n",
    "          else:\n",
    "            ret_dict[ele][tmp_key] += 1\n",
    "        except:\n",
    "          pass\n",
    "          # print(ele,ele_dict[ele])\n",
    "      # print(\"---------\")\n",
    "      i += 1\n",
    "      # if(i > 100): return 0\n",
    "      \n",
    "  ret_dict[\"school\"] = {k: ret_dict[\"school\"][k] for k in sorted(ret_dict[\"school\"], key=ret_dict[\"school\"].get, reverse=True)}\n",
    "  ret_dict[\"major\"] = {k: ret_dict[\"major\"][k] for k in sorted(ret_dict[\"major\"], key=ret_dict[\"major\"].get, reverse=True)}\n",
    "  return ret_dict\n",
    "\n",
    "\n",
    "\n",
    "dictionary = get_count_of_educations()\n",
    "sava_dict_count(\"educations\", dictionary)\n",
    "sava_dict_count(\"educations_school\", dictionary[\"school\"])\n",
    "sava_dict_count(\"educations_major\", dictionary[\"major\"])"
   ]
  },
  {
   "cell_type": "markdown",
   "metadata": {},
   "source": [
    "# 统计职业"
   ]
  },
  {
   "cell_type": "code",
   "execution_count": null,
   "metadata": {},
   "outputs": [
    {
     "name": "stdout",
     "output_type": "stream",
     "text": [
      "[{'job': {'id': '19552637', 'type': 'topic', 'url': 'https://www.zhihu.com/topics/19552637', 'name': '合伙人', 'avatar_url': 'https://pic1.zhimg.com/9ccbe93b9_is.jpg', 'excerpt': '分享创业与合伙人相关的干货经验，交流学习', 'introduction': '分享创业与合伙人相关的干货经验，交流学习'}, 'company': {'id': '19733917', 'type': 'topic', 'url': 'https://www.zhihu.com/topics/19733917', 'name': 'ShowHouse室内设计事务所', 'avatar_url': 'https://pic4.zhimg.com/e82bab09c_is.jpg', 'excerpt': '', 'introduction': ''}}]\n"
     ]
    }
   ],
   "source": [
    "print(raw_data.iloc[2].employments)"
   ]
  }
 ],
 "metadata": {
  "interpreter": {
   "hash": "7bb93025c59856bded36afd37d2470052c421d333c99f2f3a784820eb03d1847"
  },
  "kernelspec": {
   "display_name": "Python 3.7.0 ('base')",
   "language": "python",
   "name": "python3"
  },
  "language_info": {
   "codemirror_mode": {
    "name": "ipython",
    "version": 3
   },
   "file_extension": ".py",
   "mimetype": "text/x-python",
   "name": "python",
   "nbconvert_exporter": "python",
   "pygments_lexer": "ipython3",
   "version": "3.7.0"
  },
  "orig_nbformat": 4
 },
 "nbformat": 4,
 "nbformat_minor": 2
}
