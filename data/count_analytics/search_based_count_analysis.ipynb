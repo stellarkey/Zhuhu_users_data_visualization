{
 "cells": [
  {
   "cell_type": "code",
   "execution_count": null,
   "metadata": {},
   "outputs": [],
   "source": [
    "import pandas as pd\n",
    "\n",
    "raw_data = pd.read_json(\"../items.json\")\n",
    "print(raw_data.iloc[2])"
   ]
  },
  {
   "cell_type": "code",
   "execution_count": null,
   "metadata": {},
   "outputs": [],
   "source": [
    "for attr in raw_data:\n",
    "    count_dict = {}\n",
    "    for ele in raw_data[attr]:\n",
    "        if isinstance(ele, list):\n",
    "            if len(ele) > 0:\n",
    "                for item in ele:\n",
    "                    if \"name\" in item:\n",
    "                        if not isinstance(item, dict):\n",
    "                            continue\n",
    "                        key = item[\"name\"]\n",
    "                        if key not in count_dict:\n",
    "                            count_dict[key] = 1\n",
    "                        else:\n",
    "                            count_dict[key] += 1\n",
    "                    else:\n",
    "                        for item_key in item:\n",
    "                            if not isinstance(item[item_key], dict):\n",
    "                                continue\n",
    "                            key = item[item_key][\"name\"]\n",
    "                            if item_key not in count_dict:\n",
    "                                count_dict[item_key] = {}\n",
    "                            if key not in count_dict[item_key]:\n",
    "                                count_dict[item_key][key] = 1\n",
    "                            else:\n",
    "                                count_dict[item_key][key] += 1\n",
    "        elif isinstance(ele, dict):\n",
    "            key = ele[\"name\"]\n",
    "            if key not in count_dict:\n",
    "                count_dict[key] = 1\n",
    "            else:\n",
    "                count_dict[key] += 1\n",
    "        else:\n",
    "            key = ele\n",
    "            if key not in count_dict:\n",
    "                count_dict[key] = 1\n",
    "            else:\n",
    "                count_dict[key] += 1\n",
    "    print(\"count_dict:\",count_dict)"
   ]
  }
 ],
 "metadata": {
  "language_info": {
   "name": "python"
  },
  "orig_nbformat": 4
 },
 "nbformat": 4,
 "nbformat_minor": 2
}
